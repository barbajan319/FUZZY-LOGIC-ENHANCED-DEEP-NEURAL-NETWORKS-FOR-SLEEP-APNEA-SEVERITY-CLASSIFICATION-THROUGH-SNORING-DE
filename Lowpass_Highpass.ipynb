{
 "cells": [
  {
   "cell_type": "markdown",
   "metadata": {},
   "source": [
    "https://www.youtube.com/watch?v=Aht4letBAmA\n",
    "\n",
    "Simple Lowpass and Highpass Filters with Python"
   ]
  },
  {
   "cell_type": "markdown",
   "metadata": {},
   "source": [
    "### Low pass filter ###\n",
    "\n",
    "Filter that attenuates frequencies above a certain frequency called the cutoff.\n",
    "\n",
    "### High pass filter ###\n",
    "\n",
    "Filter that attenuates frequencies below the cutoff frequency"
   ]
  },
  {
   "cell_type": "code",
   "execution_count": 2,
   "metadata": {},
   "outputs": [],
   "source": [
    "from scipy import signal\n",
    "import numpy as np\n",
    "import sounddevice as sd"
   ]
  },
  {
   "cell_type": "code",
   "execution_count": 17,
   "metadata": {},
   "outputs": [],
   "source": [
    "sample_rate =44100\n",
    "duration_in_seconds = 5\n",
    "highpass = True\n",
    "amplitude = 0.3"
   ]
  },
  {
   "cell_type": "code",
   "execution_count": 5,
   "metadata": {},
   "outputs": [],
   "source": [
    "#white noise\n",
    "duration_in_samples = int(duration_in_seconds*sample_rate)\n",
    "\n",
    "white_noise = np.random.default_rng().uniform(-1,1,duration_in_samples)\n",
    "input_signal = white_noise"
   ]
  },
  {
   "cell_type": "code",
   "execution_count": 21,
   "metadata": {},
   "outputs": [],
   "source": [
    " cutoff_frequency = np.geomspace(2000, 20, input_signal.shape[0])\n",
    " \n",
    " allpass_output = np.zeros_like(input_signal)\n",
    " \n",
    " #inner buffer\n",
    " dn_1 = 0\n",
    " \n",
    " for n in range(input_signal.shape[0]):\n",
    "     break_frequency = cutoff_frequency[n] \n",
    "     tan = np.tan(np.pi * break_frequency/sample_rate)\n",
    "     a1 = (tan - 1)/(tan+1)\n",
    "     allpass_output[n] = a1 * input_signal[n] +dn_1\n",
    "     dn_1 = input_signal[n] - a1*allpass_output[n]\n",
    "     \n",
    "if highpass:\n",
    "    allpass_output *= -1\n",
    "    \n",
    "filter_output = input_signal + allpass_output\n",
    "filter_output *= 0.5\n",
    "filter_output *= amplitude\n",
    "sd.play(filter_output, sample_rate)\n",
    "sd.wait()"
   ]
  },
  {
   "cell_type": "code",
   "execution_count": null,
   "metadata": {},
   "outputs": [],
   "source": []
  }
 ],
 "metadata": {
  "kernelspec": {
   "display_name": "Python 3",
   "language": "python",
   "name": "python3"
  },
  "language_info": {
   "codemirror_mode": {
    "name": "ipython",
    "version": 3
   },
   "file_extension": ".py",
   "mimetype": "text/x-python",
   "name": "python",
   "nbconvert_exporter": "python",
   "pygments_lexer": "ipython3",
   "version": "3.11.6"
  }
 },
 "nbformat": 4,
 "nbformat_minor": 2
}
